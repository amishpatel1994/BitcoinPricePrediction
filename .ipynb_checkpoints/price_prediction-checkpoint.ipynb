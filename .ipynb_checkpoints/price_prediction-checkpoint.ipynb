{
 "cells": [
  {
   "cell_type": "code",
   "execution_count": 1,
   "metadata": {},
   "outputs": [
    {
     "name": "stderr",
     "output_type": "stream",
     "text": [
      "Using TensorFlow backend.\n"
     ]
    }
   ],
   "source": [
    "import math\n",
    "import time\n",
    "import numpy as np\n",
    "import pandas as pd\n",
    "import datetime as dt\n",
    "import matplotlib.pyplot as plt\n",
    "from sklearn.metrics import mean_squared_error\n",
    "from keras.models import Sequential\n",
    "from keras.layers import Bidirectional\n",
    "from keras.layers.core import Activation, Dense, Dropout\n",
    "from keras.layers.recurrent import LSTM"
   ]
  },
  {
   "cell_type": "markdown",
   "metadata": {},
   "source": [
    "## Data Pre-processing\n",
    "\n",
    "The data from the csv is of an NxD matrix where N represents the number of examples and D is the number of features. This data will need to be normalized and split into windows of size 30 (represents the number of consecutive days) which results in a tensor. The dimensions are then N-w x d x D, where N is the number of examples, w is the window size, d is the number of days to examine in each sampled data, and D is the number of features.\n",
    "\n",
    "The normalization process is as follows for every feature. For each window, dividing each value by the first value in the window and then, subtract 1. \n",
    "\n",
    "After normalizing, the data is split into 90% training data and 10% test data. This is done such that 90% of the windows are used for training data and 10% of the windows are used for testing. We shuffle the windows but not the contents within the window, which ensures that the order of the consecutive days is maintained within the window. "
   ]
  },
  {
   "cell_type": "code",
   "execution_count": 2,
   "metadata": {},
   "outputs": [
    {
     "name": "stdout",
     "output_type": "stream",
     "text": [
      "Shape of Data with date:  (1818, 11)\n",
      "Shape of data without date:  (1818, 10)\n"
     ]
    }
   ],
   "source": [
    "window_size = 30\n",
    "file_name = \"blockchain_data.csv\"\n",
    "dropout = 0.2\n",
    "activation_function=\"linear\"\n",
    "loss_function=\"mse\"\n",
    "optimizer=\"adam\"\n",
    "batch_size=1024\n",
    "nb_epoch=50\n",
    "validation_split=0.05\n",
    "\n",
    "raw_dataset = pd.read_csv(file_name)\n",
    "print(\"Shape of Data with date: \", raw_dataset.shape)\n",
    "\n",
    "# Remove date column and change data types to float\n",
    "dataset = raw_dataset.drop('Date', 1)\n",
    "print(\"Shape of data without date: \", dataset.shape)"
   ]
  },
  {
   "cell_type": "code",
   "execution_count": 3,
   "metadata": {},
   "outputs": [
    {
     "data": {
      "text/plain": [
       "(1788, 30, 10)"
      ]
     },
     "execution_count": 3,
     "metadata": {},
     "output_type": "execute_result"
    }
   ],
   "source": [
    "dataset = dataset.values.tolist()\n",
    "tmp_arr = []\n",
    "for idx in range(len(dataset) - window_size):\n",
    "    tmp_arr.append(dataset[idx: idx + window_size])\n",
    "\n",
    "data = np.array(tmp_arr)\n",
    "data.shape"
   ]
  },
  {
   "cell_type": "code",
   "execution_count": 4,
   "metadata": {},
   "outputs": [
    {
     "name": "stdout",
     "output_type": "stream",
     "text": [
      "(1788, 30, 10)\n"
     ]
    },
    {
     "data": {
      "text/plain": [
       "array([[ 0.00000000e+00,  0.00000000e+00,  0.00000000e+00,\n",
       "         0.00000000e+00,  0.00000000e+00,  0.00000000e+00,\n",
       "         0.00000000e+00,  0.00000000e+00,  0.00000000e+00,\n",
       "         0.00000000e+00],\n",
       "       [ 5.03526891e-03,  0.00000000e+00, -5.37740978e-02,\n",
       "         4.42871620e-02,  4.05405405e-02,  1.19726116e-01,\n",
       "        -1.03708813e-01, -1.34670718e-01, -6.73726840e-02,\n",
       "        -8.07617418e-02],\n",
       "       [-9.86339474e-03,  0.00000000e+00, -1.30137313e-01,\n",
       "        -6.01418068e-02, -5.40540541e-02, -1.25549454e-01,\n",
       "         1.36215627e-01,  4.38104636e-02,  7.47985663e-02,\n",
       "         2.13392749e-01],\n",
       "       [-4.10274140e-02,  0.00000000e+00, -2.36333955e-02,\n",
       "        -4.15726959e-02, -6.75675676e-03, -1.70761313e-01,\n",
       "         1.63654365e-01,  1.50475409e-01,  1.55791835e-01,\n",
       "         4.98619751e-01],\n",
       "       [-4.33078568e-02,  0.00000000e+00, -1.24267390e-01,\n",
       "        -7.93547396e-02, -4.05405405e-02, -1.87216289e-01,\n",
       "         1.80567168e-01,  8.13382457e-02,  1.32706337e-01,\n",
       "         1.93184492e-01],\n",
       "       [-7.05578946e-02,  5.95788830e-03,  3.66842511e-02,\n",
       "        -1.31881384e-01, -5.58959121e-02, -2.40374103e-01,\n",
       "         2.34583463e-01,  1.99768521e-01,  1.42823881e-01,\n",
       "         6.07240662e-01],\n",
       "       [-1.32822787e-01,  1.99080658e-02,  6.76261247e-02,\n",
       "        -2.17512118e-01, -9.03522657e-02, -2.85724901e-01,\n",
       "         2.28287111e-01,  2.43456789e-01,  9.54993156e-02,\n",
       "         7.45097252e-01],\n",
       "       [-1.44969280e-01,  1.99080658e-02, -2.81676640e-01,\n",
       "        -2.93935243e-03,  1.92189834e-01, -7.76349514e-02,\n",
       "        -7.52286849e-02, -8.15249970e-03,  8.09826859e-02,\n",
       "        -6.04072112e-02],\n",
       "       [-1.55787048e-01,  1.99080658e-02, -2.52590441e-01,\n",
       "        -2.54237881e-01, -9.72435364e-02, -2.09330599e-01,\n",
       "         6.56039154e-02, -1.22953806e-01, -5.67965344e-02,\n",
       "        -2.58080101e-01],\n",
       "       [-1.80100001e-01,  1.99080658e-02, -8.14530942e-02,\n",
       "        -3.01906733e-01, -1.38591161e-01, -2.91920055e-01,\n",
       "         1.67301000e-01,  7.81819188e-03, -1.41038847e-02,\n",
       "         4.03410631e-01],\n",
       "       [-1.57328228e-01,  1.99080658e-02,  7.04933184e-02,\n",
       "        -2.95932837e-01, -1.59264973e-01, -3.78853722e-01,\n",
       "         3.75061388e-01,  1.80203444e-01,  1.33496550e-01,\n",
       "         7.38468589e-01],\n",
       "       [-1.43973105e-01,  1.99080658e-02,  1.20776762e-02,\n",
       "        -1.90397216e-01, -4.21133707e-02, -2.77397199e-01,\n",
       "         1.92941830e-01,  1.47741001e-01,  1.20398070e-01,\n",
       "         4.76464870e-01],\n",
       "       [-1.12114478e-01,  1.99080658e-02, -2.54426445e-01,\n",
       "        -2.16926492e-02,  1.23277126e-01, -1.04333890e-01,\n",
       "        -8.24754156e-03,  8.48588529e-02,  9.22679103e-02,\n",
       "         1.41218694e-01],\n",
       "       [-1.02706286e-01,  1.99080658e-02, -9.90063127e-02,\n",
       "        -1.69886836e-01, -6.27871828e-02, -2.44079416e-01,\n",
       "         1.95044113e-01,  1.08707681e-01,  9.81486446e-02,\n",
       "         4.26153096e-01],\n",
       "       [-9.62429495e-02,  1.99080658e-02, -8.61639927e-02,\n",
       "        -2.26866824e-01, -1.31699890e-01, -2.10120035e-01,\n",
       "         1.49699605e-01,  2.28251547e-04, -2.12016877e-02,\n",
       "         1.87365646e-01],\n",
       "       [-1.31233116e-01,  1.99080658e-02, -2.56833162e-01,\n",
       "        -1.83891912e-01, -4.21133707e-02, -1.57600739e-01,\n",
       "         3.15175463e-02, -6.35254028e-02, -3.12098720e-02,\n",
       "        -4.46774508e-02],\n",
       "       [-1.37503768e-01,  1.99080658e-02, -1.29916602e-01,\n",
       "        -1.53318579e-01, -7.65746378e-04, -2.37419092e-01,\n",
       "         1.33255447e-01,  1.20071842e-01,  1.10284053e-01,\n",
       "         1.37691136e-01],\n",
       "       [-1.36637230e-01,  1.99080658e-02, -1.79189337e-01,\n",
       "        -7.78435111e-02,  8.88207729e-02, -2.23201979e-01,\n",
       "         1.11990673e-01,  1.44538563e-01,  1.87125178e-01,\n",
       "         1.10928850e-01],\n",
       "       [-1.39766802e-01,  1.99080658e-02, -2.02434128e-01,\n",
       "        -2.76467461e-02,  1.50842209e-01, -1.82792447e-01,\n",
       "         5.44765944e-02,  1.54763771e-01,  1.89848590e-01,\n",
       "         2.88320961e-01],\n",
       "       [-1.35821936e-01,  1.85492283e-02, -1.30463804e-01,\n",
       "        -1.52982322e-01, -8.19026761e-03, -2.29126565e-01,\n",
       "         1.21509890e-01,  8.42409599e-02,  9.87765815e-02,\n",
       "         1.34427989e-02],\n",
       "       [-1.26775605e-01,  1.23299338e-02, -9.59452364e-02,\n",
       "        -1.43280479e-01, -8.19026761e-03, -2.29983040e-01,\n",
       "         1.35617522e-01,  7.91594810e-02,  1.12598247e-01,\n",
       "         9.15503563e-02],\n",
       "       [-1.10908012e-01,  1.23299338e-02, -2.60941635e-01,\n",
       "        -7.16862998e-02,  6.02104036e-02, -7.75955610e-02,\n",
       "        -3.90442433e-02, -7.02115592e-02,  6.40636686e-03,\n",
       "        -2.12649476e-01],\n",
       "       [-1.15682827e-01,  1.23299338e-02, -2.87046641e-01,\n",
       "        -1.19663051e-01,  1.23299338e-02, -1.05093529e-01,\n",
       "        -1.62804973e-02, -1.29971964e-01, -1.62804973e-02,\n",
       "        -3.67581773e-01],\n",
       "       [-1.19030362e-01,  1.23299338e-02, -7.03969891e-02,\n",
       "        -1.19553724e-01,  1.23299338e-02, -2.04224275e-01,\n",
       "         1.06400017e-01,  1.02441139e-01,  1.06400017e-01,\n",
       "        -4.85172326e-02],\n",
       "       [-1.38306177e-01,  1.23299338e-02, -5.56220290e-02,\n",
       "        -1.38173297e-01,  1.23299338e-02, -2.36714245e-01,\n",
       "         1.29100992e-01,  1.13989745e-01,  1.29100992e-01,\n",
       "         1.25939432e-02],\n",
       "       [-1.48634808e-01,  1.23299338e-02,  2.04752578e-02,\n",
       "        -2.38787774e-01, -9.71111402e-02, -2.59121755e-01,\n",
       "         1.51984661e-01,  6.34308744e-02,  2.74457787e-02,\n",
       "         7.28585687e-02],\n",
       "       [-1.53284511e-01,  1.23299338e-02, -6.45034443e-02,\n",
       "        -2.38216538e-01, -9.02710730e-02, -3.07425602e-01,\n",
       "         2.23982424e-01,  7.29182998e-02,  9.99301508e-02,\n",
       "        -1.61124503e-02],\n",
       "       [-1.47055465e-01,  1.23299338e-02, -1.54561774e-01,\n",
       "        -1.24495671e-01,  3.96902022e-02, -2.31382209e-01,\n",
       "         1.09087965e-01,  1.06355999e-01,  1.39063316e-01,\n",
       "        -2.01542713e-02],\n",
       "       [-1.53902105e-01,  1.23299338e-02, -2.29300646e-01,\n",
       "        -1.40380918e-01,  3.28501351e-02, -1.69751881e-01,\n",
       "         1.48057405e-02, -4.64065368e-02,  3.53761271e-02,\n",
       "        -3.30057219e-01],\n",
       "       [-1.63123021e-01,  1.23299338e-02, -4.38528262e-02,\n",
       "        -2.98281698e-01, -1.51831677e-01, -2.44936499e-01,\n",
       "         1.09224253e-01, -1.34864386e-01, -7.06499499e-02,\n",
       "        -1.08381455e-01]])"
      ]
     },
     "execution_count": 4,
     "metadata": {},
     "output_type": "execute_result"
    }
   ],
   "source": [
    "# Normalize the data\n",
    "normalized_data = np.zeros_like(data)\n",
    "normalized_data[:,1:,:] = data[:,1:,:] / data[:, 0:1, :] - 1\n",
    "print(normalized_data.shape)\n",
    "normalized_data[-1,:,:]"
   ]
  },
  {
   "cell_type": "code",
   "execution_count": 5,
   "metadata": {},
   "outputs": [
    {
     "name": "stdout",
     "output_type": "stream",
     "text": [
      "(1609, 29, 10)\n",
      "(1609,)\n",
      "(179, 29, 10)\n",
      "(179,)\n",
      "(179,)\n"
     ]
    }
   ],
   "source": [
    "# Split the data\n",
    "split_idx = round(0.9*normalized_data.shape[0])\n",
    "training_data = normalized_data[:int(split_idx), :]\n",
    "np.random.shuffle(training_data)\n",
    "\n",
    "X_train = training_data[:, :-1]\n",
    "Y_train = training_data[:, -1]\n",
    "Y_train = Y_train[:, 0]\n",
    "print(X_train.shape)\n",
    "print(Y_train.shape)\n",
    "\n",
    "X_test = normalized_data[int(split_idx):, :-1]\n",
    "Y_test = normalized_data[int(split_idx):, -1, :]\n",
    "Y_test = Y_test[:, 0]\n",
    "print(X_test.shape)\n",
    "print(Y_test.shape)\n",
    "\n",
    "Y_daybefore = normalized_data[int(split_idx):, -2, :]\n",
    "Y_daybefore = Y_daybefore[:, 0]\n",
    "print(Y_daybefore.shape)\n",
    "\n",
    "# this is because the last window is used as the target\n",
    "sequence_length = window_size\n",
    "window_size = window_size - 1"
   ]
  },
  {
   "cell_type": "markdown",
   "metadata": {},
   "source": [
    "## Training Step"
   ]
  },
  {
   "cell_type": "code",
   "execution_count": 6,
   "metadata": {},
   "outputs": [],
   "source": [
    "# create the model\n",
    "model = Sequential()\n",
    "\n",
    "# First layer\n",
    "model.add(Bidirectional(LSTM(window_size, return_sequences=True), input_shape=(window_size, X_train.shape[-1]),))\n",
    "model.add(Dropout(dropout))\n",
    "\n",
    "# Second layer\n",
    "model.add(Bidirectional(LSTM(window_size*2, return_sequences=True)))\n",
    "model.add(Dropout(dropout))\n",
    "\n",
    "# Third layer\n",
    "model.add(Bidirectional(LSTM(window_size, return_sequences=False)))\n",
    "\n",
    "# Output Layer\n",
    "model.add(Dense(units=1))\n",
    "model.add(Activation(activation_function))\n",
    "\n",
    "model.compile(loss=loss_function, optimizer=optimizer)"
   ]
  },
  {
   "cell_type": "code",
   "execution_count": 7,
   "metadata": {},
   "outputs": [
    {
     "name": "stderr",
     "output_type": "stream",
     "text": [
      "/usr/local/anaconda3/lib/python3.7/site-packages/ipykernel_launcher.py:2: UserWarning: The `nb_epoch` argument in `fit` has been renamed `epochs`.\n",
      "  \n"
     ]
    },
    {
     "name": "stdout",
     "output_type": "stream",
     "text": [
      "Train on 1528 samples, validate on 81 samples\n",
      "Epoch 1/50\n",
      "1528/1528 [==============================] - 5s 3ms/step - loss: 0.0863 - val_loss: 0.0542\n",
      "Epoch 2/50\n",
      "1528/1528 [==============================] - 1s 902us/step - loss: 0.0498 - val_loss: 0.0261\n",
      "Epoch 3/50\n",
      "1528/1528 [==============================] - 2s 1ms/step - loss: 0.0319 - val_loss: 0.0177\n",
      "Epoch 4/50\n",
      "1528/1528 [==============================] - 1s 910us/step - loss: 0.0245 - val_loss: 0.0180\n",
      "Epoch 5/50\n",
      "1528/1528 [==============================] - 2s 2ms/step - loss: 0.0207 - val_loss: 0.0187\n",
      "Epoch 6/50\n",
      "1528/1528 [==============================] - 2s 1ms/step - loss: 0.0186 - val_loss: 0.0162\n",
      "Epoch 7/50\n",
      "1528/1528 [==============================] - 2s 1ms/step - loss: 0.0161 - val_loss: 0.0136\n",
      "Epoch 8/50\n",
      "1528/1528 [==============================] - 2s 1ms/step - loss: 0.0142 - val_loss: 0.0121\n",
      "Epoch 9/50\n",
      "1528/1528 [==============================] - 3s 2ms/step - loss: 0.0128 - val_loss: 0.0115\n",
      "Epoch 10/50\n",
      "1528/1528 [==============================] - 3s 2ms/step - loss: 0.0115 - val_loss: 0.0110\n",
      "Epoch 11/50\n",
      "1528/1528 [==============================] - 3s 2ms/step - loss: 0.0105 - val_loss: 0.0103\n",
      "Epoch 12/50\n",
      "1528/1528 [==============================] - 3s 2ms/step - loss: 0.0099 - val_loss: 0.0101\n",
      "Epoch 13/50\n",
      "1528/1528 [==============================] - 3s 2ms/step - loss: 0.0091 - val_loss: 0.0096\n",
      "Epoch 14/50\n",
      "1528/1528 [==============================] - 3s 2ms/step - loss: 0.0087 - val_loss: 0.0092\n",
      "Epoch 15/50\n",
      "1528/1528 [==============================] - 3s 2ms/step - loss: 0.0081 - val_loss: 0.0088\n",
      "Epoch 16/50\n",
      "1528/1528 [==============================] - 3s 2ms/step - loss: 0.0083 - val_loss: 0.0084\n",
      "Epoch 17/50\n",
      "1528/1528 [==============================] - 3s 2ms/step - loss: 0.0075 - val_loss: 0.0082\n",
      "Epoch 18/50\n",
      "1528/1528 [==============================] - 3s 2ms/step - loss: 0.0069 - val_loss: 0.0082\n",
      "Epoch 19/50\n",
      "1528/1528 [==============================] - 3s 2ms/step - loss: 0.0069 - val_loss: 0.0082\n",
      "Epoch 20/50\n",
      "1528/1528 [==============================] - 3s 2ms/step - loss: 0.0065 - val_loss: 0.0078\n",
      "Epoch 21/50\n",
      "1528/1528 [==============================] - 3s 2ms/step - loss: 0.0065 - val_loss: 0.0072\n",
      "Epoch 22/50\n",
      "1528/1528 [==============================] - 3s 2ms/step - loss: 0.0064 - val_loss: 0.0067\n",
      "Epoch 23/50\n",
      "1528/1528 [==============================] - 3s 2ms/step - loss: 0.0060 - val_loss: 0.0065\n",
      "Epoch 24/50\n",
      "1528/1528 [==============================] - 3s 2ms/step - loss: 0.0061 - val_loss: 0.0066\n",
      "Epoch 25/50\n",
      "1528/1528 [==============================] - 3s 2ms/step - loss: 0.0060 - val_loss: 0.0071\n",
      "Epoch 26/50\n",
      "1528/1528 [==============================] - 3s 2ms/step - loss: 0.0056 - val_loss: 0.0078\n",
      "Epoch 27/50\n",
      "1528/1528 [==============================] - 3s 2ms/step - loss: 0.0055 - val_loss: 0.0082\n",
      "Epoch 28/50\n",
      "1528/1528 [==============================] - 2s 1ms/step - loss: 0.0055 - val_loss: 0.0079\n",
      "Epoch 29/50\n",
      "1528/1528 [==============================] - 2s 1ms/step - loss: 0.0052 - val_loss: 0.0078\n",
      "Epoch 30/50\n",
      "1528/1528 [==============================] - 2s 1ms/step - loss: 0.0052 - val_loss: 0.0078\n",
      "Epoch 31/50\n",
      "1528/1528 [==============================] - 2s 1ms/step - loss: 0.0052 - val_loss: 0.0076\n",
      "Epoch 32/50\n",
      "1528/1528 [==============================] - 1s 939us/step - loss: 0.0053 - val_loss: 0.0076\n",
      "Epoch 33/50\n",
      "1528/1528 [==============================] - 1s 926us/step - loss: 0.0050 - val_loss: 0.0072\n",
      "Epoch 34/50\n",
      "1528/1528 [==============================] - 1s 966us/step - loss: 0.0048 - val_loss: 0.0068\n",
      "Epoch 35/50\n",
      "1528/1528 [==============================] - 1s 919us/step - loss: 0.0048 - val_loss: 0.0065\n",
      "Epoch 36/50\n",
      "1528/1528 [==============================] - 2s 1ms/step - loss: 0.0049 - val_loss: 0.0068\n",
      "Epoch 37/50\n",
      "1528/1528 [==============================] - 2s 1ms/step - loss: 0.0047 - val_loss: 0.0071\n",
      "Epoch 38/50\n",
      "1528/1528 [==============================] - 2s 1ms/step - loss: 0.0049 - val_loss: 0.0068\n",
      "Epoch 39/50\n",
      "1528/1528 [==============================] - 3s 2ms/step - loss: 0.0046 - val_loss: 0.0067\n",
      "Epoch 40/50\n",
      "1528/1528 [==============================] - 4s 2ms/step - loss: 0.0046 - val_loss: 0.0064\n",
      "Epoch 41/50\n",
      "1528/1528 [==============================] - 3s 2ms/step - loss: 0.0045 - val_loss: 0.0063\n",
      "Epoch 42/50\n",
      "1528/1528 [==============================] - 3s 2ms/step - loss: 0.0044 - val_loss: 0.0061\n",
      "Epoch 43/50\n",
      "1528/1528 [==============================] - 2s 2ms/step - loss: 0.0043 - val_loss: 0.0064\n",
      "Epoch 44/50\n",
      "1528/1528 [==============================] - 3s 2ms/step - loss: 0.0044 - val_loss: 0.0069\n",
      "Epoch 45/50\n",
      "1528/1528 [==============================] - 2s 2ms/step - loss: 0.0043 - val_loss: 0.0064\n",
      "Epoch 46/50\n",
      "1528/1528 [==============================] - 2s 1ms/step - loss: 0.0043 - val_loss: 0.0060\n",
      "Epoch 47/50\n",
      "1528/1528 [==============================] - 2s 1ms/step - loss: 0.0044 - val_loss: 0.0064\n",
      "Epoch 48/50\n",
      "1528/1528 [==============================] - 2s 1ms/step - loss: 0.0044 - val_loss: 0.0067\n",
      "Epoch 49/50\n",
      "1528/1528 [==============================] - 2s 2ms/step - loss: 0.0043 - val_loss: 0.0063\n",
      "Epoch 50/50\n",
      "1528/1528 [==============================] - 2s 1ms/step - loss: 0.0041 - val_loss: 0.0059\n",
      "Training time 124 seconds\n"
     ]
    }
   ],
   "source": [
    "start = time.time()\n",
    "model.fit(X_train, Y_train, batch_size=batch_size, nb_epoch=nb_epoch, validation_split=validation_split)\n",
    "training_time = int(math.floor(time.time() - start))\n",
    "print(\"Training time\", training_time, \"seconds\")"
   ]
  },
  {
   "cell_type": "code",
   "execution_count": 9,
   "metadata": {},
   "outputs": [
    {
     "data": {
      "image/png": "[encoded data removed]",
      "text/plain": [
       "<Figure size 720x360 with 1 Axes>"
      ]
     },
     "metadata": {
      "needs_background": "light"
     },
     "output_type": "display_data"
    }
   ],
   "source": [
    "#Test the model\n",
    "y_predict = model.predict(X_test)\n",
    "\n",
    "#Create empty 2D arrays to store unnormalized values\n",
    "real_y_test = np.zeros_like(Y_test)\n",
    "real_y_predict = np.zeros_like(y_predict)\n",
    "unnormalized_bases = data[split_idx:,0:1,0]\n",
    "\n",
    "\n",
    "#Fill the 2D arrays with the real value and the predicted value by reversing the normalization process\n",
    "for i in range(Y_test.shape[0]):\n",
    "    y = Y_test[i]\n",
    "    predict = y_predict[i]\n",
    "    real_y_test[i] = (y+1)*unnormalized_bases[i]\n",
    "    real_y_predict[i] = (predict+1)*unnormalized_bases[i]\n",
    "import matplotlib.dates as mdates\n",
    "\n",
    "#Plot of the predicted prices versus the real prices\n",
    "fig = plt.figure(figsize=(10,5))\n",
    "ax = fig.add_subplot(111)\n",
    "now = dt.datetime.now()\n",
    "then = now - dt.timedelta(days=real_y_predict.shape[0])\n",
    "days = mdates.drange(then,now,dt.timedelta(days=1))\n",
    "ax.set_title(\"Bitcoin Price over last 6 months\")\n",
    "ax.xaxis.set_major_formatter(mdates.DateFormatter('%Y-%m-%d'))\n",
    "ax.xaxis.set_major_locator(mdates.DayLocator(interval=30))\n",
    "plt.plot(days, real_y_predict, color = 'green', label = 'Predicted Price')\n",
    "plt.plot(days, real_y_test, color = 'red', label = 'Actual Price')\n",
    "ax.set_ylabel(\"Price (USD)\")\n",
    "ax.set_xlabel(\"Date\")\n",
    "ax.legend()\n",
    "plt.show()"
   ]
  },
  {
   "cell_type": "code",
   "execution_count": null,
   "metadata": {},
   "outputs": [],
   "source": []
  },
  {
   "cell_type": "code",
   "execution_count": null,
   "metadata": {},
   "outputs": [],
   "source": []
  }
 ],
 "metadata": {
  "kernelspec": {
   "display_name": "Python 3",
   "language": "python",
   "name": "python3"
  },
  "language_info": {
   "codemirror_mode": {
    "name": "ipython",
    "version": 3
   },
   "file_extension": ".py",
   "mimetype": "text/x-python",
   "name": "python",
   "nbconvert_exporter": "python",
   "pygments_lexer": "ipython3",
   "version": "3.7.3"
  }
 },
 "nbformat": 4,
 "nbformat_minor": 2
}
